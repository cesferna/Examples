{
 "cells": [
  {
   "cell_type": "code",
   "execution_count": null,
   "id": "5c8ddc5a",
   "metadata": {},
   "outputs": [],
   "source": [
    "a = 5\n",
    "b = 5.0\n",
    "c = \"Hola\"\n",
    "d = True\n",
    "d = 55\n"
   ]
  },
  {
   "cell_type": "code",
   "execution_count": 5,
   "id": "aa5c04e5",
   "metadata": {},
   "outputs": [
    {
     "data": {
      "text/plain": [
       "(int, float, str, bool)"
      ]
     },
     "execution_count": 5,
     "metadata": {},
     "output_type": "execute_result"
    }
   ],
   "source": [
    "tpe(a),type(b),type(c),type(d)"
   ]
  },
  {
   "cell_type": "code",
   "execution_count": 8,
   "id": "9a8518a5",
   "metadata": {},
   "outputs": [],
   "source": [
    "a = \"12X12\"\n",
    "a = False\n"
   ]
  },
  {
   "cell_type": "code",
   "execution_count": 9,
   "id": "02f85c16",
   "metadata": {},
   "outputs": [
    {
     "data": {
      "text/plain": [
       "bool"
      ]
     },
     "execution_count": 9,
     "metadata": {},
     "output_type": "execute_result"
    }
   ],
   "source": [
    "type(a)"
   ]
  },
  {
   "cell_type": "code",
   "execution_count": 11,
   "id": "84dbcb28",
   "metadata": {},
   "outputs": [],
   "source": [
    "l = []\n",
    "l.append(12)\n",
    "l.append(\"hola\")\n",
    "l.append(True)\n",
    "l.append(False)\n",
    "l.append(24)\n"
   ]
  },
  {
   "cell_type": "code",
   "execution_count": 12,
   "id": "a8d66e56",
   "metadata": {},
   "outputs": [
    {
     "data": {
      "text/plain": [
       "[12, 'hola', True, False, 24]"
      ]
     },
     "execution_count": 12,
     "metadata": {},
     "output_type": "execute_result"
    }
   ],
   "source": [
    "l"
   ]
  },
  {
   "cell_type": "code",
   "execution_count": 13,
   "id": "4ddf1d7c",
   "metadata": {},
   "outputs": [
    {
     "data": {
      "text/plain": [
       "{'clave': 'valor'}"
      ]
     },
     "execution_count": 13,
     "metadata": {},
     "output_type": "execute_result"
    }
   ],
   "source": [
    "a = {\"clave\":\"valor\"}\n",
    "a"
   ]
  },
  {
   "cell_type": "code",
   "execution_count": 14,
   "id": "50689074",
   "metadata": {},
   "outputs": [
    {
     "data": {
      "text/plain": [
       "dict_keys(['clave'])"
      ]
     },
     "execution_count": 14,
     "metadata": {},
     "output_type": "execute_result"
    }
   ],
   "source": [
    "a.keys()"
   ]
  },
  {
   "cell_type": "code",
   "execution_count": 15,
   "id": "5bfcc837",
   "metadata": {},
   "outputs": [
    {
     "data": {
      "text/plain": [
       "dict_values(['valor'])"
      ]
     },
     "execution_count": 15,
     "metadata": {},
     "output_type": "execute_result"
    }
   ],
   "source": [
    "a.values()"
   ]
  },
  {
   "cell_type": "code",
   "execution_count": 16,
   "id": "d8eaa579",
   "metadata": {},
   "outputs": [
    {
     "data": {
      "text/plain": [
       "dict_items([('clave', 'valor')])"
      ]
     },
     "execution_count": 16,
     "metadata": {},
     "output_type": "execute_result"
    }
   ],
   "source": [
    "a.items()"
   ]
  },
  {
   "cell_type": "code",
   "execution_count": 17,
   "id": "1376ffab",
   "metadata": {},
   "outputs": [
    {
     "data": {
      "text/plain": [
       "4"
      ]
     },
     "execution_count": 17,
     "metadata": {},
     "output_type": "execute_result"
    }
   ],
   "source": [
    "a = max(3,4)\n",
    "a"
   ]
  },
  {
   "cell_type": "code",
   "execution_count": 25,
   "id": "670eba91",
   "metadata": {},
   "outputs": [
    {
     "data": {
      "text/plain": [
       "422"
      ]
     },
     "execution_count": 25,
     "metadata": {},
     "output_type": "execute_result"
    }
   ],
   "source": [
    "def f1(a):\n",
    "    return a*2\n",
    "\n",
    "def f2(a):\n",
    "    return f1(a)*f1(a)+2\n",
    "\n",
    "def f3(a):\n",
    "    return f1(a)+f2(a)\n",
    "\n",
    "f3(10)"
   ]
  },
  {
   "cell_type": "code",
   "execution_count": 41,
   "id": "329d16d9",
   "metadata": {},
   "outputs": [
    {
     "data": {
      "image/png": "[encoded data removed]",
      "text/plain": [
       "<Figure size 640x480 with 1 Axes>"
      ]
     },
     "metadata": {},
     "output_type": "display_data"
    }
   ],
   "source": [
    "import matplotlib.pyplot as plt\n",
    "\n",
    "x = list(range(1,1000))\n",
    "y1 = [i**2 for i in x]\n",
    "y2 = [i**3 for i in x]\n",
    "\n",
    "plt.plot(x,y1,'r-',label=\"$y=x^2$\")\n",
    "plt.plot(x,y2,'g-',label=\"$y=x^3$\")\n",
    "plt.xlabel(\"$x$\")\n",
    "plt.ylabel(\"y\")\n",
    "plt.title(\"Mi primer gráfico en Python\")\n",
    "plt.legend(loc='best')\n",
    "plt.show()"
   ]
  },
  {
   "cell_type": "code",
   "execution_count": null,
   "id": "267f39d6",
   "metadata": {},
   "outputs": [],
   "source": []
  }
 ],
 "metadata": {
  "kernelspec": {
   "display_name": "Python 3 (ipykernel)",
   "language": "python",
   "name": "python3"
  },
  "language_info": {
   "codemirror_mode": {
    "name": "ipython",
    "version": 3
   },
   "file_extension": ".py",
   "mimetype": "text/x-python",
   "name": "python",
   "nbconvert_exporter": "python",
   "pygments_lexer": "ipython3",
   "version": "3.10.11"
  }
 },
 "nbformat": 4,
 "nbformat_minor": 5
}
